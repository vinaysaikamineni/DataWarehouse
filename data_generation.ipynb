{
 "cells": [
  {
   "cell_type": "markdown",
   "metadata": {},
   "source": [
    "# Generating Data to load into the database - sindhuretails"
   ]
  },
  {
   "cell_type": "code",
   "execution_count": 2,
   "metadata": {},
   "outputs": [
    {
     "name": "stdout",
     "output_type": "stream",
     "text": [
      "Collecting faker\n",
      "  Downloading Faker-30.8.0-py3-none-any.whl.metadata (15 kB)\n",
      "Requirement already satisfied: python-dateutil>=2.4 in c:\\users\\daysi\\appdata\\local\\programs\\python\\python312\\lib\\site-packages (from faker) (2.9.0.post0)\n",
      "Requirement already satisfied: typing-extensions in c:\\users\\daysi\\appdata\\local\\programs\\python\\python312\\lib\\site-packages (from faker) (4.12.2)\n",
      "Requirement already satisfied: six>=1.5 in c:\\users\\daysi\\appdata\\local\\programs\\python\\python312\\lib\\site-packages (from python-dateutil>=2.4->faker) (1.16.0)\n",
      "Downloading Faker-30.8.0-py3-none-any.whl (1.8 MB)\n",
      "   ---------------------------------------- 0.0/1.8 MB ? eta -:--:--\n",
      "   ---------------------------------------- 1.8/1.8 MB 10.2 MB/s eta 0:00:00\n",
      "Installing collected packages: faker\n",
      "Successfully installed faker-30.8.0\n"
     ]
    }
   ],
   "source": [
    "!pip install faker"
   ]
  },
  {
   "cell_type": "code",
   "execution_count": 3,
   "metadata": {},
   "outputs": [],
   "source": [
    "from faker import Faker\n",
    "import random\n",
    "import pandas as pd\n",
    "\n",
    "fake = Faker()"
   ]
  },
  {
   "cell_type": "code",
   "execution_count": 4,
   "metadata": {},
   "outputs": [],
   "source": [
    "# Create sample product dimension data\n",
    "products = [\n",
    "    {\"product_id\": i, \"product_name\": fake.word(), \"category\": random.choice([\"Electronics\", \"Furniture\", \"Clothing\"]),\n",
    "     \"price\": round(random.uniform(10, 100), 2)}\n",
    "    for i in range(1, 101)\n",
    "]"
   ]
  },
  {
   "cell_type": "code",
   "execution_count": 5,
   "metadata": {},
   "outputs": [],
   "source": [
    "# Create sample customer dimension data\n",
    "customers = [\n",
    "    {\"customer_id\": i, \"customer_name\": fake.name(), \"age\": random.randint(18, 70), \"location\": fake.city()}\n",
    "    for i in range(1, 101)\n",
    "]\n"
   ]
  },
  {
   "cell_type": "code",
   "execution_count": 6,
   "metadata": {},
   "outputs": [],
   "source": [
    "# Create time dimension data\n",
    "time_data = [\n",
    "    {\"date_id\": i, \"date\": fake.date_this_year(), \"month\": fake.month_name(), \"quarter\": random.choice([\"Q1\", \"Q2\", \"Q3\", \"Q4\"]),\n",
    "     \"year\": 2024}\n",
    "    for i in range(1, 101)\n",
    "]"
   ]
  },
  {
   "cell_type": "code",
   "execution_count": 7,
   "metadata": {},
   "outputs": [],
   "source": [
    "# Save sample data to CSV (you can later load these into MySQL)\n",
    "pd.DataFrame(products).to_csv(\"dim_product.csv\", index=False)\n",
    "pd.DataFrame(customers).to_csv(\"dim_customer.csv\", index=False)\n",
    "pd.DataFrame(time_data).to_csv(\"dim_time.csv\", index=False)"
   ]
  },
  {
   "cell_type": "code",
   "execution_count": 8,
   "metadata": {},
   "outputs": [],
   "source": [
    "# Create sample store dimension data\n",
    "stores = [\n",
    "    {\"store_id\": i, \"store_name\": f\"Store_{i}\", \"location\": fake.city()}\n",
    "    for i in range(1, 21)  # Let's assume we have 20 stores\n",
    "]\n",
    "\n",
    "# Save sample store data to CSV\n",
    "pd.DataFrame(stores).to_csv(\"dim_store.csv\", index=False)\n",
    "\n"
   ]
  }
 ],
 "metadata": {
  "kernelspec": {
   "display_name": "Python 3",
   "language": "python",
   "name": "python3"
  },
  "language_info": {
   "codemirror_mode": {
    "name": "ipython",
    "version": 3
   },
   "file_extension": ".py",
   "mimetype": "text/x-python",
   "name": "python",
   "nbconvert_exporter": "python",
   "pygments_lexer": "ipython3",
   "version": "3.12.6"
  }
 },
 "nbformat": 4,
 "nbformat_minor": 2
}
